{
 "cells": [
  {
   "cell_type": "markdown",
   "metadata": {},
   "source": [
    "## Importing libraries"
   ]
  },
  {
   "cell_type": "code",
   "execution_count": 150,
   "metadata": {},
   "outputs": [],
   "source": [
    "import numpy as np\n",
    "import pandas as pd\n",
    "import matplotlib.pyplot as plt\n",
    "import seaborn as sns\n",
    "\n",
    "from sklearn.model_selection import train_test_split\n",
    "from sklearn.preprocessing import LabelEncoder, StandardScaler\n",
    "\n",
    "import tensorflow as tf\n",
    "from tensorflow.keras import datasets, layers, models\n",
    "from tensorflow.keras.models import Sequential\n",
    "from tensorflow.keras.layers import Dense\n",
    "from tensorflow.keras.optimizers import Adam\n",
    "from tensorflow.keras.losses import SparseCategoricalCrossentropy, CategoricalCrossentropy\n",
    "from tensorflow.keras.metrics import AUC, Accuracy\n",
    "from tensorflow.keras.utils import to_categorical "
   ]
  },
  {
   "cell_type": "code",
   "execution_count": 151,
   "metadata": {},
   "outputs": [],
   "source": [
    "DATA_PATH = \"cover_data.csv\"\n",
    "SEED=42"
   ]
  },
  {
   "cell_type": "markdown",
   "metadata": {},
   "source": [
    "## Loading data"
   ]
  },
  {
   "cell_type": "code",
   "execution_count": 152,
   "metadata": {},
   "outputs": [
    {
     "name": "stdout",
     "output_type": "stream",
     "text": [
      "(581012, 55)\n",
      "<bound method NDFrame.head of         Elevation  Aspect  Slope  Horizontal_Distance_To_Hydrology  \\\n",
      "0            2596      51      3                               258   \n",
      "1            2590      56      2                               212   \n",
      "2            2804     139      9                               268   \n",
      "3            2785     155     18                               242   \n",
      "4            2595      45      2                               153   \n",
      "...           ...     ...    ...                               ...   \n",
      "581007       2396     153     20                                85   \n",
      "581008       2391     152     19                                67   \n",
      "581009       2386     159     17                                60   \n",
      "581010       2384     170     15                                60   \n",
      "581011       2383     165     13                                60   \n",
      "\n",
      "        Vertical_Distance_To_Hydrology  Horizontal_Distance_To_Roadways  \\\n",
      "0                                    0                              510   \n",
      "1                                   -6                              390   \n",
      "2                                   65                             3180   \n",
      "3                                  118                             3090   \n",
      "4                                   -1                              391   \n",
      "...                                ...                              ...   \n",
      "581007                              17                              108   \n",
      "581008                              12                               95   \n",
      "581009                               7                               90   \n",
      "581010                               5                               90   \n",
      "581011                               4                               67   \n",
      "\n",
      "        Hillshade_9am  Hillshade_Noon  Hillshade_3pm  \\\n",
      "0                 221             232            148   \n",
      "1                 220             235            151   \n",
      "2                 234             238            135   \n",
      "3                 238             238            122   \n",
      "4                 220             234            150   \n",
      "...               ...             ...            ...   \n",
      "581007            240             237            118   \n",
      "581008            240             237            119   \n",
      "581009            236             241            130   \n",
      "581010            230             245            143   \n",
      "581011            231             244            141   \n",
      "\n",
      "        Horizontal_Distance_To_Fire_Points  ...  Soil_Type32  Soil_Type33  \\\n",
      "0                                     6279  ...            0            0   \n",
      "1                                     6225  ...            0            0   \n",
      "2                                     6121  ...            0            0   \n",
      "3                                     6211  ...            0            0   \n",
      "4                                     6172  ...            0            0   \n",
      "...                                    ...  ...          ...          ...   \n",
      "581007                                 837  ...            0            0   \n",
      "581008                                 845  ...            0            0   \n",
      "581009                                 854  ...            0            0   \n",
      "581010                                 864  ...            0            0   \n",
      "581011                                 875  ...            0            0   \n",
      "\n",
      "        Soil_Type34  Soil_Type35  Soil_Type36  Soil_Type37  Soil_Type38  \\\n",
      "0                 0            0            0            0            0   \n",
      "1                 0            0            0            0            0   \n",
      "2                 0            0            0            0            0   \n",
      "3                 0            0            0            0            0   \n",
      "4                 0            0            0            0            0   \n",
      "...             ...          ...          ...          ...          ...   \n",
      "581007            0            0            0            0            0   \n",
      "581008            0            0            0            0            0   \n",
      "581009            0            0            0            0            0   \n",
      "581010            0            0            0            0            0   \n",
      "581011            0            0            0            0            0   \n",
      "\n",
      "        Soil_Type39  Soil_Type40  class  \n",
      "0                 0            0      5  \n",
      "1                 0            0      5  \n",
      "2                 0            0      2  \n",
      "3                 0            0      2  \n",
      "4                 0            0      5  \n",
      "...             ...          ...    ...  \n",
      "581007            0            0      3  \n",
      "581008            0            0      3  \n",
      "581009            0            0      3  \n",
      "581010            0            0      3  \n",
      "581011            0            0      3  \n",
      "\n",
      "[581012 rows x 55 columns]>\n"
     ]
    }
   ],
   "source": [
    "df = pd.read_csv(DATA_PATH)\n",
    "features = df.drop(columns=\"class\").columns\n",
    "target = \"class\"\n",
    "print(df.shape)\n",
    "print(df.head)"
   ]
  },
  {
   "cell_type": "code",
   "execution_count": 153,
   "metadata": {},
   "outputs": [
    {
     "name": "stdout",
     "output_type": "stream",
     "text": [
      "Index(['Elevation', 'Aspect', 'Slope', 'Horizontal_Distance_To_Hydrology',\n",
      "       'Vertical_Distance_To_Hydrology', 'Horizontal_Distance_To_Roadways',\n",
      "       'Hillshade_9am', 'Hillshade_Noon', 'Hillshade_3pm',\n",
      "       'Horizontal_Distance_To_Fire_Points', 'Wilderness_Area1',\n",
      "       'Wilderness_Area2', 'Wilderness_Area3', 'Wilderness_Area4',\n",
      "       'Soil_Type1', 'Soil_Type2', 'Soil_Type3', 'Soil_Type4', 'Soil_Type5',\n",
      "       'Soil_Type6', 'Soil_Type7', 'Soil_Type8', 'Soil_Type9', 'Soil_Type10',\n",
      "       'Soil_Type11', 'Soil_Type12', 'Soil_Type13', 'Soil_Type14',\n",
      "       'Soil_Type15', 'Soil_Type16', 'Soil_Type17', 'Soil_Type18',\n",
      "       'Soil_Type19', 'Soil_Type20', 'Soil_Type21', 'Soil_Type22',\n",
      "       'Soil_Type23', 'Soil_Type24', 'Soil_Type25', 'Soil_Type26',\n",
      "       'Soil_Type27', 'Soil_Type28', 'Soil_Type29', 'Soil_Type30',\n",
      "       'Soil_Type31', 'Soil_Type32', 'Soil_Type33', 'Soil_Type34',\n",
      "       'Soil_Type35', 'Soil_Type36', 'Soil_Type37', 'Soil_Type38',\n",
      "       'Soil_Type39', 'Soil_Type40', 'class'],\n",
      "      dtype='object')\n",
      "<class 'pandas.core.frame.DataFrame'>\n",
      "RangeIndex: 581012 entries, 0 to 581011\n",
      "Data columns (total 55 columns):\n",
      " #   Column                              Non-Null Count   Dtype\n",
      "---  ------                              --------------   -----\n",
      " 0   Elevation                           581012 non-null  int64\n",
      " 1   Aspect                              581012 non-null  int64\n",
      " 2   Slope                               581012 non-null  int64\n",
      " 3   Horizontal_Distance_To_Hydrology    581012 non-null  int64\n",
      " 4   Vertical_Distance_To_Hydrology      581012 non-null  int64\n",
      " 5   Horizontal_Distance_To_Roadways     581012 non-null  int64\n",
      " 6   Hillshade_9am                       581012 non-null  int64\n",
      " 7   Hillshade_Noon                      581012 non-null  int64\n",
      " 8   Hillshade_3pm                       581012 non-null  int64\n",
      " 9   Horizontal_Distance_To_Fire_Points  581012 non-null  int64\n",
      " 10  Wilderness_Area1                    581012 non-null  int64\n",
      " 11  Wilderness_Area2                    581012 non-null  int64\n",
      " 12  Wilderness_Area3                    581012 non-null  int64\n",
      " 13  Wilderness_Area4                    581012 non-null  int64\n",
      " 14  Soil_Type1                          581012 non-null  int64\n",
      " 15  Soil_Type2                          581012 non-null  int64\n",
      " 16  Soil_Type3                          581012 non-null  int64\n",
      " 17  Soil_Type4                          581012 non-null  int64\n",
      " 18  Soil_Type5                          581012 non-null  int64\n",
      " 19  Soil_Type6                          581012 non-null  int64\n",
      " 20  Soil_Type7                          581012 non-null  int64\n",
      " 21  Soil_Type8                          581012 non-null  int64\n",
      " 22  Soil_Type9                          581012 non-null  int64\n",
      " 23  Soil_Type10                         581012 non-null  int64\n",
      " 24  Soil_Type11                         581012 non-null  int64\n",
      " 25  Soil_Type12                         581012 non-null  int64\n",
      " 26  Soil_Type13                         581012 non-null  int64\n",
      " 27  Soil_Type14                         581012 non-null  int64\n",
      " 28  Soil_Type15                         581012 non-null  int64\n",
      " 29  Soil_Type16                         581012 non-null  int64\n",
      " 30  Soil_Type17                         581012 non-null  int64\n",
      " 31  Soil_Type18                         581012 non-null  int64\n",
      " 32  Soil_Type19                         581012 non-null  int64\n",
      " 33  Soil_Type20                         581012 non-null  int64\n",
      " 34  Soil_Type21                         581012 non-null  int64\n",
      " 35  Soil_Type22                         581012 non-null  int64\n",
      " 36  Soil_Type23                         581012 non-null  int64\n",
      " 37  Soil_Type24                         581012 non-null  int64\n",
      " 38  Soil_Type25                         581012 non-null  int64\n",
      " 39  Soil_Type26                         581012 non-null  int64\n",
      " 40  Soil_Type27                         581012 non-null  int64\n",
      " 41  Soil_Type28                         581012 non-null  int64\n",
      " 42  Soil_Type29                         581012 non-null  int64\n",
      " 43  Soil_Type30                         581012 non-null  int64\n",
      " 44  Soil_Type31                         581012 non-null  int64\n",
      " 45  Soil_Type32                         581012 non-null  int64\n",
      " 46  Soil_Type33                         581012 non-null  int64\n",
      " 47  Soil_Type34                         581012 non-null  int64\n",
      " 48  Soil_Type35                         581012 non-null  int64\n",
      " 49  Soil_Type36                         581012 non-null  int64\n",
      " 50  Soil_Type37                         581012 non-null  int64\n",
      " 51  Soil_Type38                         581012 non-null  int64\n",
      " 52  Soil_Type39                         581012 non-null  int64\n",
      " 53  Soil_Type40                         581012 non-null  int64\n",
      " 54  class                               581012 non-null  int64\n",
      "dtypes: int64(55)\n",
      "memory usage: 243.8 MB\n",
      "None\n"
     ]
    }
   ],
   "source": [
    "print(df.columns)\n",
    "print(df.info())"
   ]
  },
  {
   "cell_type": "code",
   "execution_count": 154,
   "metadata": {},
   "outputs": [
    {
     "name": "stdout",
     "output_type": "stream",
     "text": [
      "\n",
      "Summary Statistics of Numerical Features:\n",
      "           Elevation         Aspect          Slope  \\\n",
      "count  581012.000000  581012.000000  581012.000000   \n",
      "mean     2959.365301     155.656807      14.103704   \n",
      "std       279.984734     111.913721       7.488242   \n",
      "min      1859.000000       0.000000       0.000000   \n",
      "25%      2809.000000      58.000000       9.000000   \n",
      "50%      2996.000000     127.000000      13.000000   \n",
      "75%      3163.000000     260.000000      18.000000   \n",
      "max      3858.000000     360.000000      66.000000   \n",
      "\n",
      "       Horizontal_Distance_To_Hydrology  Vertical_Distance_To_Hydrology  \\\n",
      "count                     581012.000000                   581012.000000   \n",
      "mean                         269.428217                       46.418855   \n",
      "std                          212.549356                       58.295232   \n",
      "min                            0.000000                     -173.000000   \n",
      "25%                          108.000000                        7.000000   \n",
      "50%                          218.000000                       30.000000   \n",
      "75%                          384.000000                       69.000000   \n",
      "max                         1397.000000                      601.000000   \n",
      "\n",
      "       Horizontal_Distance_To_Roadways  Hillshade_9am  Hillshade_Noon  \\\n",
      "count                    581012.000000  581012.000000   581012.000000   \n",
      "mean                       2350.146611     212.146049      223.318716   \n",
      "std                        1559.254870      26.769889       19.768697   \n",
      "min                           0.000000       0.000000        0.000000   \n",
      "25%                        1106.000000     198.000000      213.000000   \n",
      "50%                        1997.000000     218.000000      226.000000   \n",
      "75%                        3328.000000     231.000000      237.000000   \n",
      "max                        7117.000000     254.000000      254.000000   \n",
      "\n",
      "       Hillshade_3pm  Horizontal_Distance_To_Fire_Points  ...    Soil_Type32  \\\n",
      "count  581012.000000                       581012.000000  ...  581012.000000   \n",
      "mean      142.528263                         1980.291226  ...       0.090392   \n",
      "std        38.274529                         1324.195210  ...       0.286743   \n",
      "min         0.000000                            0.000000  ...       0.000000   \n",
      "25%       119.000000                         1024.000000  ...       0.000000   \n",
      "50%       143.000000                         1710.000000  ...       0.000000   \n",
      "75%       168.000000                         2550.000000  ...       0.000000   \n",
      "max       254.000000                         7173.000000  ...       1.000000   \n",
      "\n",
      "         Soil_Type33    Soil_Type34    Soil_Type35    Soil_Type36  \\\n",
      "count  581012.000000  581012.000000  581012.000000  581012.000000   \n",
      "mean        0.077716       0.002773       0.003255       0.000205   \n",
      "std         0.267725       0.052584       0.056957       0.014310   \n",
      "min         0.000000       0.000000       0.000000       0.000000   \n",
      "25%         0.000000       0.000000       0.000000       0.000000   \n",
      "50%         0.000000       0.000000       0.000000       0.000000   \n",
      "75%         0.000000       0.000000       0.000000       0.000000   \n",
      "max         1.000000       1.000000       1.000000       1.000000   \n",
      "\n",
      "         Soil_Type37    Soil_Type38    Soil_Type39    Soil_Type40  \\\n",
      "count  581012.000000  581012.000000  581012.000000  581012.000000   \n",
      "mean        0.000513       0.026803       0.023762       0.015060   \n",
      "std         0.022641       0.161508       0.152307       0.121791   \n",
      "min         0.000000       0.000000       0.000000       0.000000   \n",
      "25%         0.000000       0.000000       0.000000       0.000000   \n",
      "50%         0.000000       0.000000       0.000000       0.000000   \n",
      "75%         0.000000       0.000000       0.000000       0.000000   \n",
      "max         1.000000       1.000000       1.000000       1.000000   \n",
      "\n",
      "               class  \n",
      "count  581012.000000  \n",
      "mean        2.051471  \n",
      "std         1.396504  \n",
      "min         1.000000  \n",
      "25%         1.000000  \n",
      "50%         2.000000  \n",
      "75%         2.000000  \n",
      "max         7.000000  \n",
      "\n",
      "[8 rows x 55 columns]\n"
     ]
    }
   ],
   "source": [
    "print(\"\\nSummary Statistics of Numerical Features:\")\n",
    "print(df.describe())"
   ]
  },
  {
   "cell_type": "code",
   "execution_count": 155,
   "metadata": {},
   "outputs": [
    {
     "name": "stdout",
     "output_type": "stream",
     "text": [
      "\n",
      "Number of missing values :\n"
     ]
    },
    {
     "data": {
      "text/plain": [
       "0"
      ]
     },
     "execution_count": 155,
     "metadata": {},
     "output_type": "execute_result"
    }
   ],
   "source": [
    "print(\"\\nNumber of missing values :\")\n",
    "np.sum(np.sum(pd.isna(df)))"
   ]
  },
  {
   "cell_type": "code",
   "execution_count": 156,
   "metadata": {},
   "outputs": [
    {
     "data": {
      "image/png": "[encoded data removed]",
      "text/plain": [
       "<Figure size 400x300 with 1 Axes>"
      ]
     },
     "metadata": {},
     "output_type": "display_data"
    },
    {
     "name": "stdout",
     "output_type": "stream",
     "text": [
      "[5 2 1 7 3 6 4]\n"
     ]
    }
   ],
   "source": [
    "# Assuming the target column is 'target_column'\n",
    "plt.figure(figsize=(4, 3))\n",
    "sns.countplot(x='class', data=df)\n",
    "plt.title('Class Distribution of Target Variable')\n",
    "plt.xlabel('Class Label')\n",
    "plt.ylabel('Count')\n",
    "plt.show()\n",
    "print(df['class'].unique())"
   ]
  },
  {
   "cell_type": "markdown",
   "metadata": {},
   "source": [
    "## Splitting the data and normalizing"
   ]
  },
  {
   "cell_type": "code",
   "execution_count": 160,
   "metadata": {},
   "outputs": [
    {
     "name": "stdout",
     "output_type": "stream",
     "text": [
      "244336    2\n",
      "518278    1\n",
      "151614    2\n",
      "85676     1\n",
      "419952    1\n",
      "         ..\n",
      "19737     2\n",
      "560290    2\n",
      "126666    1\n",
      "213959    1\n",
      "52912     1\n",
      "Name: class, Length: 406708, dtype: int64\n",
      "[[0. 1. 0. ... 0. 0. 0.]\n",
      " [1. 0. 0. ... 0. 0. 0.]\n",
      " [0. 1. 0. ... 0. 0. 0.]\n",
      " ...\n",
      " [1. 0. 0. ... 0. 0. 0.]\n",
      " [1. 0. 0. ... 0. 0. 0.]\n",
      " [1. 0. 0. ... 0. 0. 0.]]\n"
     ]
    }
   ],
   "source": [
    "X = df[features]\n",
    "y = df[target]\n",
    "\n",
    "X_train, X_test, y_train, y_test = train_test_split(X,y, test_size=0.3, random_state=SEED, stratify=y)\n",
    "\n",
    "le = LabelEncoder()\n",
    "print(y_train)\n",
    "y_train = le.fit_transform(y_train)\n",
    "y_test = le.transform(y_test)\n",
    "y_train = to_categorical(y_train)\n",
    "y_test = to_categorical(y_test)\n",
    "print(y_train)\n",
    "\n",
    "\n",
    "scaler = StandardScaler()\n",
    "X_train = scaler.fit_transform(X_train)\n",
    "X_test = scaler.transform(X_test)\n",
    "\n"
   ]
  },
  {
   "cell_type": "markdown",
   "metadata": {},
   "source": [
    "## Designing model"
   ]
  },
  {
   "cell_type": "code",
   "execution_count": 161,
   "metadata": {},
   "outputs": [
    {
     "data": {
      "text/html": [
       "<pre style=\"white-space:pre;overflow-x:auto;line-height:normal;font-family:Menlo,'DejaVu Sans Mono',consolas,'Courier New',monospace\"><span style=\"font-weight: bold\">Model: \"sequential_15\"</span>\n",
       "</pre>\n"
      ],
      "text/plain": [
       "\u001b[1mModel: \"sequential_15\"\u001b[0m\n"
      ]
     },
     "metadata": {},
     "output_type": "display_data"
    },
    {
     "data": {
      "text/html": [
       "<pre style=\"white-space:pre;overflow-x:auto;line-height:normal;font-family:Menlo,'DejaVu Sans Mono',consolas,'Courier New',monospace\">┏━━━━━━━━━━━━━━━━━━━━━━━━━━━━━━━━━┳━━━━━━━━━━━━━━━━━━━━━━━━┳━━━━━━━━━━━━━━━┓\n",
       "┃<span style=\"font-weight: bold\"> Layer (type)                    </span>┃<span style=\"font-weight: bold\"> Output Shape           </span>┃<span style=\"font-weight: bold\">       Param # </span>┃\n",
       "┡━━━━━━━━━━━━━━━━━━━━━━━━━━━━━━━━━╇━━━━━━━━━━━━━━━━━━━━━━━━╇━━━━━━━━━━━━━━━┩\n",
       "│ dense_34 (<span style=\"color: #0087ff; text-decoration-color: #0087ff\">Dense</span>)                │ (<span style=\"color: #00d7ff; text-decoration-color: #00d7ff\">None</span>, <span style=\"color: #00af00; text-decoration-color: #00af00\">256</span>)            │        <span style=\"color: #00af00; text-decoration-color: #00af00\">14,080</span> │\n",
       "├─────────────────────────────────┼────────────────────────┼───────────────┤\n",
       "│ dense_35 (<span style=\"color: #0087ff; text-decoration-color: #0087ff\">Dense</span>)                │ (<span style=\"color: #00d7ff; text-decoration-color: #00d7ff\">None</span>, <span style=\"color: #00af00; text-decoration-color: #00af00\">128</span>)            │        <span style=\"color: #00af00; text-decoration-color: #00af00\">32,896</span> │\n",
       "├─────────────────────────────────┼────────────────────────┼───────────────┤\n",
       "│ dense_36 (<span style=\"color: #0087ff; text-decoration-color: #0087ff\">Dense</span>)                │ (<span style=\"color: #00d7ff; text-decoration-color: #00d7ff\">None</span>, <span style=\"color: #00af00; text-decoration-color: #00af00\">64</span>)             │         <span style=\"color: #00af00; text-decoration-color: #00af00\">8,256</span> │\n",
       "├─────────────────────────────────┼────────────────────────┼───────────────┤\n",
       "│ dense_37 (<span style=\"color: #0087ff; text-decoration-color: #0087ff\">Dense</span>)                │ (<span style=\"color: #00d7ff; text-decoration-color: #00d7ff\">None</span>, <span style=\"color: #00af00; text-decoration-color: #00af00\">64</span>)             │         <span style=\"color: #00af00; text-decoration-color: #00af00\">4,160</span> │\n",
       "├─────────────────────────────────┼────────────────────────┼───────────────┤\n",
       "│ dense_38 (<span style=\"color: #0087ff; text-decoration-color: #0087ff\">Dense</span>)                │ (<span style=\"color: #00d7ff; text-decoration-color: #00d7ff\">None</span>, <span style=\"color: #00af00; text-decoration-color: #00af00\">7</span>)              │           <span style=\"color: #00af00; text-decoration-color: #00af00\">455</span> │\n",
       "└─────────────────────────────────┴────────────────────────┴───────────────┘\n",
       "</pre>\n"
      ],
      "text/plain": [
       "┏━━━━━━━━━━━━━━━━━━━━━━━━━━━━━━━━━┳━━━━━━━━━━━━━━━━━━━━━━━━┳━━━━━━━━━━━━━━━┓\n",
       "┃\u001b[1m \u001b[0m\u001b[1mLayer (type)                   \u001b[0m\u001b[1m \u001b[0m┃\u001b[1m \u001b[0m\u001b[1mOutput Shape          \u001b[0m\u001b[1m \u001b[0m┃\u001b[1m \u001b[0m\u001b[1m      Param #\u001b[0m\u001b[1m \u001b[0m┃\n",
       "┡━━━━━━━━━━━━━━━━━━━━━━━━━━━━━━━━━╇━━━━━━━━━━━━━━━━━━━━━━━━╇━━━━━━━━━━━━━━━┩\n",
       "│ dense_34 (\u001b[38;5;33mDense\u001b[0m)                │ (\u001b[38;5;45mNone\u001b[0m, \u001b[38;5;34m256\u001b[0m)            │        \u001b[38;5;34m14,080\u001b[0m │\n",
       "├─────────────────────────────────┼────────────────────────┼───────────────┤\n",
       "│ dense_35 (\u001b[38;5;33mDense\u001b[0m)                │ (\u001b[38;5;45mNone\u001b[0m, \u001b[38;5;34m128\u001b[0m)            │        \u001b[38;5;34m32,896\u001b[0m │\n",
       "├─────────────────────────────────┼────────────────────────┼───────────────┤\n",
       "│ dense_36 (\u001b[38;5;33mDense\u001b[0m)                │ (\u001b[38;5;45mNone\u001b[0m, \u001b[38;5;34m64\u001b[0m)             │         \u001b[38;5;34m8,256\u001b[0m │\n",
       "├─────────────────────────────────┼────────────────────────┼───────────────┤\n",
       "│ dense_37 (\u001b[38;5;33mDense\u001b[0m)                │ (\u001b[38;5;45mNone\u001b[0m, \u001b[38;5;34m64\u001b[0m)             │         \u001b[38;5;34m4,160\u001b[0m │\n",
       "├─────────────────────────────────┼────────────────────────┼───────────────┤\n",
       "│ dense_38 (\u001b[38;5;33mDense\u001b[0m)                │ (\u001b[38;5;45mNone\u001b[0m, \u001b[38;5;34m7\u001b[0m)              │           \u001b[38;5;34m455\u001b[0m │\n",
       "└─────────────────────────────────┴────────────────────────┴───────────────┘\n"
      ]
     },
     "metadata": {},
     "output_type": "display_data"
    },
    {
     "data": {
      "text/html": [
       "<pre style=\"white-space:pre;overflow-x:auto;line-height:normal;font-family:Menlo,'DejaVu Sans Mono',consolas,'Courier New',monospace\"><span style=\"font-weight: bold\"> Total params: </span><span style=\"color: #00af00; text-decoration-color: #00af00\">59,847</span> (233.78 KB)\n",
       "</pre>\n"
      ],
      "text/plain": [
       "\u001b[1m Total params: \u001b[0m\u001b[38;5;34m59,847\u001b[0m (233.78 KB)\n"
      ]
     },
     "metadata": {},
     "output_type": "display_data"
    },
    {
     "data": {
      "text/html": [
       "<pre style=\"white-space:pre;overflow-x:auto;line-height:normal;font-family:Menlo,'DejaVu Sans Mono',consolas,'Courier New',monospace\"><span style=\"font-weight: bold\"> Trainable params: </span><span style=\"color: #00af00; text-decoration-color: #00af00\">59,847</span> (233.78 KB)\n",
       "</pre>\n"
      ],
      "text/plain": [
       "\u001b[1m Trainable params: \u001b[0m\u001b[38;5;34m59,847\u001b[0m (233.78 KB)\n"
      ]
     },
     "metadata": {},
     "output_type": "display_data"
    },
    {
     "data": {
      "text/html": [
       "<pre style=\"white-space:pre;overflow-x:auto;line-height:normal;font-family:Menlo,'DejaVu Sans Mono',consolas,'Courier New',monospace\"><span style=\"font-weight: bold\"> Non-trainable params: </span><span style=\"color: #00af00; text-decoration-color: #00af00\">0</span> (0.00 B)\n",
       "</pre>\n"
      ],
      "text/plain": [
       "\u001b[1m Non-trainable params: \u001b[0m\u001b[38;5;34m0\u001b[0m (0.00 B)\n"
      ]
     },
     "metadata": {},
     "output_type": "display_data"
    }
   ],
   "source": [
    "def design_model():\n",
    "    model = Sequential()\n",
    "    model.add(tf.keras.Input(shape=(54,)))\n",
    "    model.add(tf.keras.layers.Dense(256, activation = \"relu\"))\n",
    "    model.add(tf.keras.layers.Dense(128, activation = \"relu\"))\n",
    "    model.add(tf.keras.layers.Dense(64, activation = \"relu\"))\n",
    "    model.add(tf.keras.layers.Dense(64, activation = \"relu\"))\n",
    "    model.add(tf.keras.layers.Dense(7, activation = \"softmax\"))\n",
    "    model.compile(optimizer= Adam(learning_rate=0.01), loss= CategoricalCrossentropy(), metrics= [Accuracy(), AUC()])\n",
    "    model.summary()\n",
    "    return model\n",
    "    \n",
    "model = design_model()"
   ]
  },
  {
   "cell_type": "code",
   "execution_count": 162,
   "metadata": {},
   "outputs": [
    {
     "name": "stdout",
     "output_type": "stream",
     "text": [
      "Epoch 1/32\n",
      "\u001b[1m10168/10168\u001b[0m \u001b[32m━━━━━━━━━━━━━━━━━━━━\u001b[0m\u001b[37m\u001b[0m \u001b[1m14s\u001b[0m 1ms/step - accuracy: 0.0012 - auc_10: 0.9582 - loss: 0.6746 - val_accuracy: 0.0157 - val_auc_10: 0.9713 - val_loss: 0.5596\n",
      "Epoch 2/32\n",
      "\u001b[1m10168/10168\u001b[0m \u001b[32m━━━━━━━━━━━━━━━━━━━━\u001b[0m\u001b[37m\u001b[0m \u001b[1m10s\u001b[0m 976us/step - accuracy: 0.0267 - auc_10: 0.9695 - loss: 0.5784 - val_accuracy: 0.0401 - val_auc_10: 0.9735 - val_loss: 0.5379\n",
      "Epoch 3/32\n",
      "\u001b[1m10168/10168\u001b[0m \u001b[32m━━━━━━━━━━━━━━━━━━━━\u001b[0m\u001b[37m\u001b[0m \u001b[1m10s\u001b[0m 1ms/step - accuracy: 0.0500 - auc_10: 0.9720 - loss: 0.5521 - val_accuracy: 0.0675 - val_auc_10: 0.9718 - val_loss: 0.5587\n",
      "Epoch 4/32\n",
      "\u001b[1m10168/10168\u001b[0m \u001b[32m━━━━━━━━━━━━━━━━━━━━\u001b[0m\u001b[37m\u001b[0m \u001b[1m10s\u001b[0m 959us/step - accuracy: 0.0870 - auc_10: 0.9724 - loss: 0.5505 - val_accuracy: 0.0854 - val_auc_10: 0.9743 - val_loss: 0.5240\n",
      "Epoch 5/32\n",
      "\u001b[1m10168/10168\u001b[0m \u001b[32m━━━━━━━━━━━━━━━━━━━━\u001b[0m\u001b[37m\u001b[0m \u001b[1m10s\u001b[0m 950us/step - accuracy: 0.1039 - auc_10: 0.9742 - loss: 0.5287 - val_accuracy: 0.0875 - val_auc_10: 0.9735 - val_loss: 0.5355\n",
      "Epoch 6/32\n",
      "\u001b[1m10168/10168\u001b[0m \u001b[32m━━━━━━━━━━━━━━━━━━━━\u001b[0m\u001b[37m\u001b[0m \u001b[1m10s\u001b[0m 933us/step - accuracy: 0.0830 - auc_10: 0.9693 - loss: 0.5773 - val_accuracy: 0.1154 - val_auc_10: 0.9645 - val_loss: 0.6214\n",
      "Epoch 7/32\n",
      "\u001b[1m10168/10168\u001b[0m \u001b[32m━━━━━━━━━━━━━━━━━━━━\u001b[0m\u001b[37m\u001b[0m \u001b[1m10s\u001b[0m 936us/step - accuracy: 0.1035 - auc_10: 0.9655 - loss: 0.6158 - val_accuracy: 0.1246 - val_auc_10: 0.9703 - val_loss: 0.5669\n",
      "Epoch 8/32\n",
      "\u001b[1m10168/10168\u001b[0m \u001b[32m━━━━━━━━━━━━━━━━━━━━\u001b[0m\u001b[37m\u001b[0m \u001b[1m10s\u001b[0m 963us/step - accuracy: 0.1165 - auc_10: 0.9719 - loss: 0.5503 - val_accuracy: 0.1833 - val_auc_10: 0.9714 - val_loss: 0.5541\n",
      "Epoch 9/32\n",
      "\u001b[1m10168/10168\u001b[0m \u001b[32m━━━━━━━━━━━━━━━━━━━━\u001b[0m\u001b[37m\u001b[0m \u001b[1m10s\u001b[0m 980us/step - accuracy: 0.1462 - auc_10: 0.9736 - loss: 0.5339 - val_accuracy: 0.1180 - val_auc_10: 0.9646 - val_loss: 0.6080\n",
      "Epoch 10/32\n",
      "\u001b[1m10168/10168\u001b[0m \u001b[32m━━━━━━━━━━━━━━━━━━━━\u001b[0m\u001b[37m\u001b[0m \u001b[1m12s\u001b[0m 1ms/step - accuracy: 0.1229 - auc_10: 0.9699 - loss: 0.5733 - val_accuracy: 0.1079 - val_auc_10: 0.9697 - val_loss: 0.5602\n",
      "Epoch 11/32\n",
      "\u001b[1m10168/10168\u001b[0m \u001b[32m━━━━━━━━━━━━━━━━━━━━\u001b[0m\u001b[37m\u001b[0m \u001b[1m12s\u001b[0m 1ms/step - accuracy: 0.1154 - auc_10: 0.9709 - loss: 0.5592 - val_accuracy: 0.0963 - val_auc_10: 0.9655 - val_loss: 0.6209\n",
      "Epoch 12/32\n",
      "\u001b[1m10168/10168\u001b[0m \u001b[32m━━━━━━━━━━━━━━━━━━━━\u001b[0m\u001b[37m\u001b[0m \u001b[1m12s\u001b[0m 1ms/step - accuracy: 0.0921 - auc_10: 0.9638 - loss: 0.6228 - val_accuracy: 0.1155 - val_auc_10: 0.9682 - val_loss: 0.5787\n",
      "Epoch 13/32\n",
      "\u001b[1m10168/10168\u001b[0m \u001b[32m━━━━━━━━━━━━━━━━━━━━\u001b[0m\u001b[37m\u001b[0m \u001b[1m11s\u001b[0m 1ms/step - accuracy: 0.1128 - auc_10: 0.9516 - loss: 0.7402 - val_accuracy: 0.1385 - val_auc_10: 0.9559 - val_loss: 0.6835\n",
      "Epoch 14/32\n",
      "\u001b[1m10168/10168\u001b[0m \u001b[32m━━━━━━━━━━━━━━━━━━━━\u001b[0m\u001b[37m\u001b[0m \u001b[1m11s\u001b[0m 1ms/step - accuracy: 0.0199 - auc_10: 0.9180 - loss: 1.0289 - val_accuracy: 0.0000e+00 - val_auc_10: 0.9003 - val_loss: 0.9842\n",
      "Epoch 15/32\n",
      "\u001b[1m10168/10168\u001b[0m \u001b[32m━━━━━━━━━━━━━━━━━━━━\u001b[0m\u001b[37m\u001b[0m \u001b[1m11s\u001b[0m 1ms/step - accuracy: 0.0000e+00 - auc_10: 0.9000 - loss: 0.9940 - val_accuracy: 0.0000e+00 - val_auc_10: 0.8999 - val_loss: 0.9857\n",
      "Epoch 16/32\n",
      "\u001b[1m10168/10168\u001b[0m \u001b[32m━━━━━━━━━━━━━━━━━━━━\u001b[0m\u001b[37m\u001b[0m \u001b[1m12s\u001b[0m 1ms/step - accuracy: 8.6116e-06 - auc_10: 0.8990 - loss: 1.0014 - val_accuracy: 0.0000e+00 - val_auc_10: 0.9011 - val_loss: 0.9746\n",
      "Epoch 17/32\n",
      "\u001b[1m10168/10168\u001b[0m \u001b[32m━━━━━━━━━━━━━━━━━━━━\u001b[0m\u001b[37m\u001b[0m \u001b[1m10s\u001b[0m 1ms/step - accuracy: 0.0000e+00 - auc_10: 0.9009 - loss: 0.9820 - val_accuracy: 0.0000e+00 - val_auc_10: 0.9012 - val_loss: 0.9804\n",
      "Epoch 18/32\n",
      "\u001b[1m10168/10168\u001b[0m \u001b[32m━━━━━━━━━━━━━━━━━━━━\u001b[0m\u001b[37m\u001b[0m \u001b[1m10s\u001b[0m 940us/step - accuracy: 2.3756e-05 - auc_10: 0.9009 - loss: 0.9847 - val_accuracy: 0.0000e+00 - val_auc_10: 0.9011 - val_loss: 0.9761\n",
      "Epoch 19/32\n",
      "\u001b[1m10168/10168\u001b[0m \u001b[32m━━━━━━━━━━━━━━━━━━━━\u001b[0m\u001b[37m\u001b[0m \u001b[1m10s\u001b[0m 987us/step - accuracy: 4.1357e-06 - auc_10: 0.9002 - loss: 0.9851 - val_accuracy: 0.0000e+00 - val_auc_10: 0.9022 - val_loss: 0.9783\n",
      "Epoch 20/32\n",
      "\u001b[1m10168/10168\u001b[0m \u001b[32m━━━━━━━━━━━━━━━━━━━━\u001b[0m\u001b[37m\u001b[0m \u001b[1m10s\u001b[0m 939us/step - accuracy: 0.0000e+00 - auc_10: 0.9019 - loss: 0.9805 - val_accuracy: 0.0000e+00 - val_auc_10: 0.9010 - val_loss: 0.9816\n",
      "Epoch 21/32\n",
      "\u001b[1m10168/10168\u001b[0m \u001b[32m━━━━━━━━━━━━━━━━━━━━\u001b[0m\u001b[37m\u001b[0m \u001b[1m10s\u001b[0m 948us/step - accuracy: 2.1644e-05 - auc_10: 0.9011 - loss: 0.9930 - val_accuracy: 0.0000e+00 - val_auc_10: 0.9022 - val_loss: 0.9744\n",
      "Epoch 22/32\n",
      "\u001b[1m10168/10168\u001b[0m \u001b[32m━━━━━━━━━━━━━━━━━━━━\u001b[0m\u001b[37m\u001b[0m \u001b[1m11s\u001b[0m 1ms/step - accuracy: 0.0000e+00 - auc_10: 0.9015 - loss: 0.9798 - val_accuracy: 0.0000e+00 - val_auc_10: 0.9024 - val_loss: 0.9786\n",
      "Epoch 23/32\n",
      "\u001b[1m10168/10168\u001b[0m \u001b[32m━━━━━━━━━━━━━━━━━━━━\u001b[0m\u001b[37m\u001b[0m \u001b[1m10s\u001b[0m 954us/step - accuracy: 1.2606e-06 - auc_10: 0.9020 - loss: 0.9843 - val_accuracy: 0.0000e+00 - val_auc_10: 0.9027 - val_loss: 0.9758\n",
      "Epoch 24/32\n",
      "\u001b[1m10168/10168\u001b[0m \u001b[32m━━━━━━━━━━━━━━━━━━━━\u001b[0m\u001b[37m\u001b[0m \u001b[1m10s\u001b[0m 945us/step - accuracy: 0.0000e+00 - auc_10: 0.8906 - loss: 1.0714 - val_accuracy: 0.0000e+00 - val_auc_10: 0.8972 - val_loss: 0.9995\n",
      "Epoch 25/32\n",
      "\u001b[1m10168/10168\u001b[0m \u001b[32m━━━━━━━━━━━━━━━━━━━━\u001b[0m\u001b[37m\u001b[0m \u001b[1m11s\u001b[0m 1ms/step - accuracy: 0.0000e+00 - auc_10: 0.8984 - loss: 0.9971 - val_accuracy: 0.0000e+00 - val_auc_10: 0.9000 - val_loss: 0.9865\n",
      "Epoch 26/32\n",
      "\u001b[1m10168/10168\u001b[0m \u001b[32m━━━━━━━━━━━━━━━━━━━━\u001b[0m\u001b[37m\u001b[0m \u001b[1m10s\u001b[0m 992us/step - accuracy: 0.0000e+00 - auc_10: 0.9003 - loss: 0.9858 - val_accuracy: 0.0000e+00 - val_auc_10: 0.9014 - val_loss: 0.9786\n",
      "Epoch 27/32\n",
      "\u001b[1m10168/10168\u001b[0m \u001b[32m━━━━━━━━━━━━━━━━━━━━\u001b[0m\u001b[37m\u001b[0m \u001b[1m10s\u001b[0m 962us/step - accuracy: 0.0000e+00 - auc_10: 0.9013 - loss: 0.9774 - val_accuracy: 0.0000e+00 - val_auc_10: 0.9009 - val_loss: 0.9778\n",
      "Epoch 28/32\n",
      "\u001b[1m10168/10168\u001b[0m \u001b[32m━━━━━━━━━━━━━━━━━━━━\u001b[0m\u001b[37m\u001b[0m \u001b[1m10s\u001b[0m 1ms/step - accuracy: 0.0000e+00 - auc_10: 0.9020 - loss: 0.9765 - val_accuracy: 0.0000e+00 - val_auc_10: 0.9021 - val_loss: 0.9745\n",
      "Epoch 29/32\n",
      "\u001b[1m10168/10168\u001b[0m \u001b[32m━━━━━━━━━━━━━━━━━━━━\u001b[0m\u001b[37m\u001b[0m \u001b[1m11s\u001b[0m 1ms/step - accuracy: 0.0000e+00 - auc_10: 0.9018 - loss: 0.9776 - val_accuracy: 0.0000e+00 - val_auc_10: 0.9013 - val_loss: 0.9834\n",
      "Epoch 30/32\n",
      "\u001b[1m10168/10168\u001b[0m \u001b[32m━━━━━━━━━━━━━━━━━━━━\u001b[0m\u001b[37m\u001b[0m \u001b[1m11s\u001b[0m 1ms/step - accuracy: 0.0000e+00 - auc_10: 0.9012 - loss: 0.9862 - val_accuracy: 0.0000e+00 - val_auc_10: 0.9020 - val_loss: 0.9825\n",
      "Epoch 31/32\n",
      "\u001b[1m10168/10168\u001b[0m \u001b[32m━━━━━━━━━━━━━━━━━━━━\u001b[0m\u001b[37m\u001b[0m \u001b[1m12s\u001b[0m 1ms/step - accuracy: 0.0000e+00 - auc_10: 0.9013 - loss: 0.9863 - val_accuracy: 0.0000e+00 - val_auc_10: 0.9019 - val_loss: 0.9824\n",
      "Epoch 32/32\n",
      "\u001b[1m10168/10168\u001b[0m \u001b[32m━━━━━━━━━━━━━━━━━━━━\u001b[0m\u001b[37m\u001b[0m \u001b[1m10s\u001b[0m 1ms/step - accuracy: 0.0000e+00 - auc_10: 0.9014 - loss: 0.9858 - val_accuracy: 0.0000e+00 - val_auc_10: 0.9020 - val_loss: 0.9823\n"
     ]
    },
    {
     "data": {
      "text/plain": [
       "<keras.src.callbacks.history.History at 0x3fdaf72e0>"
      ]
     },
     "execution_count": 162,
     "metadata": {},
     "output_type": "execute_result"
    }
   ],
   "source": [
    "EPOCHs = 16\n",
    "BATCH_SIZE = 32\n",
    "model.fit(X_train,y_train, epochs=EPOCH, batch_size= BATCH_SIZE, validation_split=0.2, verbose=1)"
   ]
  },
  {
   "cell_type": "code",
   "execution_count": 163,
   "metadata": {},
   "outputs": [
    {
     "name": "stdout",
     "output_type": "stream",
     "text": [
      "[0.985765278339386, 0.0, 0.9014414548873901]\n"
     ]
    }
   ],
   "source": [
    "print(model.evaluate(X_test, y_test, verbose=0))"
   ]
  },
  {
   "cell_type": "code",
   "execution_count": 171,
   "metadata": {},
   "outputs": [
    {
     "name": "stdout",
     "output_type": "stream",
     "text": [
      "\u001b[1m5447/5447\u001b[0m \u001b[32m━━━━━━━━━━━━━━━━━━━━\u001b[0m\u001b[37m\u001b[0m \u001b[1m2s\u001b[0m 394us/step\n",
      "              precision    recall  f1-score   support\n",
      "\n",
      "           0       0.00      0.00      0.00     63552\n",
      "           1       0.53      0.96      0.68     84991\n",
      "           2       0.54      0.94      0.69     10726\n",
      "           3       0.00      0.00      0.00       824\n",
      "           4       0.00      0.00      0.00      2848\n",
      "           5       0.00      0.00      0.00      5210\n",
      "           6       0.00      0.00      0.00      6153\n",
      "\n",
      "    accuracy                           0.53    174304\n",
      "   macro avg       0.15      0.27      0.20    174304\n",
      "weighted avg       0.29      0.53      0.37    174304\n",
      "\n",
      "[[    0 63424   128     0     0     0     0]\n",
      " [    0 81915  3076     0     0     0     0]\n",
      " [    0   641 10085     0     0     0     0]\n",
      " [    0     0   824     0     0     0     0]\n",
      " [    0  2443   405     0     0     0     0]\n",
      " [    0  1216  3994     0     0     0     0]\n",
      " [    0  6127    26     0     0     0     0]]\n"
     ]
    },
    {
     "name": "stderr",
     "output_type": "stream",
     "text": [
      "/Users/victorchau/opt/anaconda3/lib/python3.9/site-packages/sklearn/metrics/_classification.py:1531: UndefinedMetricWarning: Precision is ill-defined and being set to 0.0 in labels with no predicted samples. Use `zero_division` parameter to control this behavior.\n",
      "  _warn_prf(average, modifier, f\"{metric.capitalize()} is\", len(result))\n",
      "/Users/victorchau/opt/anaconda3/lib/python3.9/site-packages/sklearn/metrics/_classification.py:1531: UndefinedMetricWarning: Precision is ill-defined and being set to 0.0 in labels with no predicted samples. Use `zero_division` parameter to control this behavior.\n",
      "  _warn_prf(average, modifier, f\"{metric.capitalize()} is\", len(result))\n",
      "/Users/victorchau/opt/anaconda3/lib/python3.9/site-packages/sklearn/metrics/_classification.py:1531: UndefinedMetricWarning: Precision is ill-defined and being set to 0.0 in labels with no predicted samples. Use `zero_division` parameter to control this behavior.\n",
      "  _warn_prf(average, modifier, f\"{metric.capitalize()} is\", len(result))\n"
     ]
    }
   ],
   "source": [
    "from sklearn.metrics import classification_report, confusion_matrix\n",
    "\n",
    "# Evaluate the model on test data\n",
    "y_pred = model.predict(X_test)\n",
    "y_pred = np.argmax(y_pred, axis=1)\n",
    "y_true = np.argmax(y_test, axis = 1)\n",
    "\n",
    "\n",
    "# Print classification report (precision, recall, f1-score)\n",
    "print(classification_report(y_true, y_pred))\n",
    "\n",
    "\n",
    "# Confusion matrix\n",
    "print(confusion_matrix(y_true, y_pred))\n"
   ]
  },
  {
   "cell_type": "code",
   "execution_count": null,
   "metadata": {},
   "outputs": [],
   "source": []
  }
 ],
 "metadata": {
  "kernelspec": {
   "display_name": "Python 3",
   "language": "python",
   "name": "python3"
  },
  "language_info": {
   "codemirror_mode": {
    "name": "ipython",
    "version": 3
   },
   "file_extension": ".py",
   "mimetype": "text/x-python",
   "name": "python",
   "nbconvert_exporter": "python",
   "pygments_lexer": "ipython3",
   "version": "3.9.13"
  }
 },
 "nbformat": 4,
 "nbformat_minor": 4
}
